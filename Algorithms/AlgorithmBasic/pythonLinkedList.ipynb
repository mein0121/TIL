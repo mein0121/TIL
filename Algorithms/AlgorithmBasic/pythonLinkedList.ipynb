{
 "cells": [
  {
   "cell_type": "markdown",
   "source": [
    "### 링크드 리스트 (Linked List) 구조\r\n",
    "* 배열은 순차적으로 연결된 공간에 데이터를 나열하는 데이터 구조\r\n",
    "* 링크드 리스트는 떨어진 곳에 존재하는 데이터를 화살표로 연결해서 관리하는 데이터 구조\r\n",
    "* 본래 C언어에서는 주요한 데이터 구조이지만, 파이썬은 리스트 타입이 링크드 리스트의 기능을 모두 지원"
   ],
   "metadata": {}
  },
  {
   "cell_type": "markdown",
   "source": [
    "* 링크드 리스트 기본 구조와 용어\r\n",
    "  - 노드(Node): 데이터 저장 단위 (데이터값, 포인터) 로 구성\r\n",
    "  - 포인터(pointer): 각 노드 안에서, 다음이나 이전의 노드와의 연결 정보를 가지고 있는 공간"
   ],
   "metadata": {}
  },
  {
   "cell_type": "markdown",
   "source": [
    "### 링크드 리스트의 장단점 (전통적인 C언어에서의 배열과 링크드 리스트)\r\n",
    "* 장점\r\n",
    "  - 미리 데이터 공간을 미리 할당하지 않아도 됨\r\n",
    "* 단점\r\n",
    "  - 연결을 위한 별도 데이터 공간이 필요하므로, 저장공간 효율이 높지 않음\r\n",
    "  - 연결 정보를 찾는 시간이 필요하므로 접근 속도가 느림\r\n",
    "  - 중간 데이터 삭제시, 앞뒤 데이터의 연결을 재구성해야 하는 부가적인 작업 필요"
   ],
   "metadata": {}
  },
  {
   "cell_type": "code",
   "execution_count": 1,
   "source": [
    "class Node:\r\n",
    "    def __init__(self, data, next=None):\r\n",
    "        self.data = data\r\n",
    "        self.next = next"
   ],
   "outputs": [],
   "metadata": {}
  },
  {
   "cell_type": "code",
   "execution_count": 9,
   "source": [
    "node1 =Node(1)\r\n",
    "node2 = Node(2)\r\n",
    "node1.next = node2\r\n",
    "head = node1"
   ],
   "outputs": [],
   "metadata": {}
  },
  {
   "cell_type": "code",
   "execution_count": 13,
   "source": [
    "node = node1\r\n",
    "while node.next:\r\n",
    "    print(node.data)\r\n",
    "    node = node.next\r\n",
    "print(node.data)"
   ],
   "outputs": [
    {
     "output_type": "stream",
     "name": "stdout",
     "text": [
      "1\n",
      "2\n",
      "3\n",
      "4\n",
      "5\n",
      "6\n",
      "7\n",
      "8\n",
      "9\n"
     ]
    }
   ],
   "metadata": {}
  },
  {
   "cell_type": "code",
   "execution_count": 14,
   "source": [
    "def add(data):\r\n",
    "    node = head\r\n",
    "    while node.next:\r\n",
    "        node = node.next\r\n",
    "    node.next = Node(data) "
   ],
   "outputs": [],
   "metadata": {}
  },
  {
   "cell_type": "code",
   "execution_count": 12,
   "source": [
    "node1 = Node(1)\r\n",
    "head = node1\r\n",
    "for index in range(2, 10):\r\n",
    "    add(index)"
   ],
   "outputs": [],
   "metadata": {}
  },
  {
   "cell_type": "code",
   "execution_count": 15,
   "source": [
    "li = [1,2,3,4,5]\r\n",
    "for i in range(len(li)):\r\n",
    "    li[i] += 20\r\n",
    "print(li)"
   ],
   "outputs": [
    {
     "output_type": "stream",
     "name": "stdout",
     "text": [
      "[21, 22, 23, 24, 25]\n"
     ]
    }
   ],
   "metadata": {}
  },
  {
   "cell_type": "code",
   "execution_count": 17,
   "source": [
    "import numpy as np\r\n",
    "arr = np.array([1,2,3,4,5])\r\n",
    "add = arr+20\r\n",
    "print(add) \r\n",
    "print(add[0])"
   ],
   "outputs": [
    {
     "output_type": "stream",
     "name": "stdout",
     "text": [
      "[21 22 23 24 25]\n",
      "21\n"
     ]
    }
   ],
   "metadata": {}
  },
  {
   "cell_type": "code",
   "execution_count": null,
   "source": [],
   "outputs": [],
   "metadata": {}
  }
 ],
 "metadata": {
  "orig_nbformat": 4,
  "language_info": {
   "name": "python",
   "version": "3.7.10",
   "mimetype": "text/x-python",
   "codemirror_mode": {
    "name": "ipython",
    "version": 3
   },
   "pygments_lexer": "ipython3",
   "nbconvert_exporter": "python",
   "file_extension": ".py"
  },
  "kernelspec": {
   "name": "python3",
   "display_name": "Python 3.7.10 64-bit ('tf2': conda)"
  },
  "interpreter": {
   "hash": "e527abc1402992eca053b9ffc0198f62c4f896d68ee6b8827c6f9e5b63adf377"
  }
 },
 "nbformat": 4,
 "nbformat_minor": 2
}