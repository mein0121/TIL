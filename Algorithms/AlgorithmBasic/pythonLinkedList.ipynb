{
 "cells": [
  {
   "cell_type": "markdown",
   "source": [
    "### 링크드 리스트 (Linked List) 구조\r\n",
    "* 배열은 순차적으로 연결된 공간에 데이터를 나열하는 데이터 구조\r\n",
    "* 링크드 리스트는 떨어진 곳에 존재하는 데이터를 화살표로 연결해서 관리하는 데이터 구조\r\n",
    "* 본래 C언어에서는 주요한 데이터 구조이지만, 파이썬은 리스트 타입이 링크드 리스트의 기능을 모두 지원"
   ],
   "metadata": {}
  },
  {
   "cell_type": "markdown",
   "source": [
    "* 링크드 리스트 기본 구조와 용어\r\n",
    "  - 노드(Node): 데이터 저장 단위 (데이터값, 포인터) 로 구성\r\n",
    "  - 포인터(pointer): 각 노드 안에서, 다음이나 이전의 노드와의 연결 정보를 가지고 있는 공간"
   ],
   "metadata": {}
  },
  {
   "cell_type": "markdown",
   "source": [
    "### 링크드 리스트의 장단점 (전통적인 C언어에서의 배열과 링크드 리스트)\r\n",
    "* 장점\r\n",
    "  - 미리 데이터 공간을 미리 할당하지 않아도 됨\r\n",
    "* 단점\r\n",
    "  - 연결을 위한 별도 데이터 공간이 필요하므로, 저장공간 효율이 높지 않음\r\n",
    "  - 연결 정보를 찾는 시간이 필요하므로 접근 속도가 느림\r\n",
    "  - 중간 데이터 삭제시, 앞뒤 데이터의 연결을 재구성해야 하는 부가적인 작업 필요"
   ],
   "metadata": {}
  },
  {
   "cell_type": "code",
   "execution_count": 1,
   "source": [
    "class Node:\r\n",
    "    def __init__(self, data, next=None):\r\n",
    "        self.data = data\r\n",
    "        self.next = next"
   ],
   "outputs": [],
   "metadata": {}
  },
  {
   "cell_type": "code",
   "execution_count": 2,
   "source": [
    "node1 =Node(1)\r\n",
    "node2 = Node(2)\r\n",
    "node1.next = node2\r\n",
    "head = node1"
   ],
   "outputs": [],
   "metadata": {}
  },
  {
   "cell_type": "code",
   "execution_count": 9,
   "source": [
    "node = node1\r\n",
    "while node.next:\r\n",
    "    print(node.data)\r\n",
    "    node = node.next\r\n",
    "print(node.data)"
   ],
   "outputs": [
    {
     "output_type": "stream",
     "name": "stdout",
     "text": [
      "1\n",
      "19999\n",
      "2\n",
      "3\n",
      "4\n",
      "5\n",
      "6\n",
      "7\n",
      "8\n",
      "9\n"
     ]
    }
   ],
   "metadata": {}
  },
  {
   "cell_type": "code",
   "execution_count": 4,
   "source": [
    "def add(data):\r\n",
    "    node = head\r\n",
    "    while node.next:\r\n",
    "        node = node.next\r\n",
    "    node.next = Node(data) "
   ],
   "outputs": [],
   "metadata": {}
  },
  {
   "cell_type": "code",
   "execution_count": 5,
   "source": [
    "node1 = Node(1)\r\n",
    "head = node1\r\n",
    "for index in range(2, 10):\r\n",
    "    add(index)"
   ],
   "outputs": [],
   "metadata": {}
  },
  {
   "cell_type": "code",
   "execution_count": 7,
   "source": [
    "node3 = Node(19999)"
   ],
   "outputs": [],
   "metadata": {}
  },
  {
   "cell_type": "code",
   "execution_count": 8,
   "source": [
    "# node3 를 1과 2사이에 삽입.\r\n",
    "node = head\r\n",
    "search = True\r\n",
    "while search:\r\n",
    "    if node.data==1:\r\n",
    "        search = False\r\n",
    "    else:\r\n",
    "        node =node.next\r\n",
    "node3.next = node.next # node3를 node2로 연결\r\n",
    "node.next = node3 # node1를 node3로 연결\r\n"
   ],
   "outputs": [],
   "metadata": {}
  },
  {
   "cell_type": "code",
   "execution_count": 15,
   "source": [
    "# 파이썬 객체지향 프로그래밍으로 링크드 리스트 구현하기\r\n",
    "class Node:\r\n",
    "    def __init__(self, data, next=None):\r\n",
    "        self.data = data\r\n",
    "        self.next = next\r\n",
    "    \r\n",
    "class NodeMgmt:\r\n",
    "    def __init__(self, data):\r\n",
    "        self.head = Node(data)\r\n",
    "        \r\n",
    "    def add(self, data):\r\n",
    "        if self.head == '':\r\n",
    "            self.head = Node(data)\r\n",
    "        else:\r\n",
    "            node = self.head\r\n",
    "            while node.next:\r\n",
    "                node = node.next\r\n",
    "            node.next = Node(data)\r\n",
    "        \r\n",
    "    def desc(self):\r\n",
    "        node = self.head\r\n",
    "        while node:\r\n",
    "            print (node.data)\r\n",
    "            node = node.next\r\n",
    "\r\n",
    "    def delete(self,data):\r\n",
    "        if self.head == \"\":\r\n",
    "            print(\"해당값을 가진 노드가 없습니다.\")\r\n",
    "            return\r\n",
    "        if self.head.data == data: # 경우의 수1: self.head를 삭제해야할 경우 - self.head를 바꿔줘야 함\r\n",
    "            temp = self.head # self.head 객체를 삭제하기 위해, 임시로 temp에 담아서 객체를 삭제했음\r\n",
    "            self.head = self.head.next # 만약 self.head 객체를 삭제하면, 이 코드가 실행이 안되기 때문!\r\n",
    "            del temp\r\n",
    "        else:\r\n",
    "            node = self.head\r\n",
    "            while node.next: # 경우의 수2: self.head가 아닌 노드를 삭제해야할 경우\r\n",
    "                if node.next.data == data:\r\n",
    "                    temp = node.next\r\n",
    "                    node.next = node.next.next\r\n",
    "                    del temp\r\n",
    "                    pass\r\n",
    "                else:\r\n",
    "                    node = node.next"
   ],
   "outputs": [],
   "metadata": {}
  },
  {
   "cell_type": "code",
   "execution_count": 17,
   "source": [
    "linkedlist1 = NodeMgmt(0)\r\n",
    "linkedlist1.desc()"
   ],
   "outputs": [
    {
     "output_type": "stream",
     "name": "stdout",
     "text": [
      "0\n"
     ]
    }
   ],
   "metadata": {}
  },
  {
   "cell_type": "code",
   "execution_count": 18,
   "source": [
    "for data in range(1, 10):\r\n",
    "    linkedlist1.add(data)\r\n",
    "linkedlist1.desc()"
   ],
   "outputs": [
    {
     "output_type": "stream",
     "name": "stdout",
     "text": [
      "0\n",
      "1\n",
      "2\n",
      "3\n",
      "4\n",
      "5\n",
      "6\n",
      "7\n",
      "8\n",
      "9\n"
     ]
    }
   ],
   "metadata": {}
  },
  {
   "cell_type": "code",
   "execution_count": 21,
   "source": [
    "linkedlist1.delete(5)"
   ],
   "outputs": [],
   "metadata": {}
  },
  {
   "cell_type": "code",
   "execution_count": 22,
   "source": [
    "linkedlist1.desc()"
   ],
   "outputs": [
    {
     "output_type": "stream",
     "name": "stdout",
     "text": [
      "1\n",
      "2\n",
      "3\n",
      "4\n",
      "6\n",
      "7\n",
      "8\n",
      "9\n"
     ]
    }
   ],
   "metadata": {}
  },
  {
   "cell_type": "code",
   "execution_count": null,
   "source": [],
   "outputs": [],
   "metadata": {}
  }
 ],
 "metadata": {
  "orig_nbformat": 4,
  "language_info": {
   "name": "python",
   "version": "3.7.10",
   "mimetype": "text/x-python",
   "codemirror_mode": {
    "name": "ipython",
    "version": 3
   },
   "pygments_lexer": "ipython3",
   "nbconvert_exporter": "python",
   "file_extension": ".py"
  },
  "kernelspec": {
   "name": "python3",
   "display_name": "Python 3.7.10 64-bit ('tf2': conda)"
  },
  "interpreter": {
   "hash": "e527abc1402992eca053b9ffc0198f62c4f896d68ee6b8827c6f9e5b63adf377"
  }
 },
 "nbformat": 4,
 "nbformat_minor": 2
}