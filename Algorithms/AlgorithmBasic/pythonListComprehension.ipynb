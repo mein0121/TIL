{
 "cells": [
  {
   "cell_type": "code",
   "execution_count": 2,
   "source": [
    "# list comprehension\r\n",
    "[(x, y) for x in [1,2,3] for y in [3,1,4] if x != y]"
   ],
   "outputs": [
    {
     "output_type": "execute_result",
     "data": {
      "text/plain": [
       "[(1, 3), (1, 4), (2, 3), (2, 1), (2, 4), (3, 1), (3, 4)]"
      ]
     },
     "metadata": {},
     "execution_count": 2
    }
   ],
   "metadata": {}
  },
  {
   "cell_type": "code",
   "execution_count": 3,
   "source": [
    "# nesteed list comprehension\r\n",
    "matrix = [\r\n",
    "    [1, 2, 3, 4],\r\n",
    "    [5, 6, 7, 8],\r\n",
    "    [9, 10, 11, 12],\r\n",
    "]\r\n",
    "[[row[i] for row in matrix] for i in range(4)]"
   ],
   "outputs": [
    {
     "output_type": "execute_result",
     "data": {
      "text/plain": [
       "[[1, 5, 9], [2, 6, 10], [3, 7, 11], [4, 8, 12]]"
      ]
     },
     "metadata": {},
     "execution_count": 3
    }
   ],
   "metadata": {}
  },
  {
   "cell_type": "code",
   "execution_count": 4,
   "source": [
    "dataset = ['Braund, Mr. Owen Harris',\r\n",
    "'Cumings, Mrs. John Bradley (Florence Briggs Thayer)',\r\n",
    "'Heikkinen, Miss. Laina',\r\n",
    "'Futrelle, Mrs. Jacques Heath (Lily May Peel)',\r\n",
    "'Allen, Mr. William Henry',\r\n",
    "'Moran, Mr. James',\r\n",
    "'McCarthy, Mr. Timothy J',\r\n",
    "'Palsson, Master. Gosta Leonard',\r\n",
    "'Johnson, Mrs. Oscar W (Elisabeth Vilhelmina Berg)',\r\n",
    "'Nasser, Mrs. Nicholas (Adele Achem)',\r\n",
    "'Sandstrom, Miss. Marguerite Rut',\r\n",
    "'Bonnell, Miss. Elizabeth',\r\n",
    "'Saundercock, Mr. William Henry',\r\n",
    "'Andersson, Mr. Anders Johan',\r\n",
    "'Vestrom, Miss. Hulda Amanda Adolfina',\r\n",
    "'Hewlett, Mrs. (Mary D Kingcome) ',\r\n",
    "'Rice, Master. Eugene',\r\n",
    "'Williams, Mr. Charles Eugene',\r\n",
    "'Vander Planke, Mrs. Julius (Emelia Maria Vandemoortele)',\r\n",
    "'Masselmani, Mrs. Fatima',\r\n",
    "'Fynney, Mr. Joseph J',\r\n",
    "'Beesley, Mr. Lawrence',\r\n",
    "'McGowan, Miss. Anna \"Annie\"',\r\n",
    "'Sloper, Mr. William Thompson',\r\n",
    "'Palsson, Miss. Torborg Danira',\r\n",
    "'Asplund, Mrs. Carl Oscar (Selma Augusta Emilia Johansson)',\r\n",
    "'Emir, Mr. Farred Chehab',\r\n",
    "'Fortune, Mr. Charles Alexander',\r\n",
    "'Dwyer, Miss. Ellen \"Nellie\"',\r\n",
    "'Todoroff, Mr. Lalio']\r\n",
    "len(dataset)"
   ],
   "outputs": [
    {
     "output_type": "execute_result",
     "data": {
      "text/plain": [
       "30"
      ]
     },
     "metadata": {},
     "execution_count": 4
    }
   ],
   "metadata": {}
  },
  {
   "cell_type": "code",
   "execution_count": 7,
   "source": [
    "ya = [x for x in dataset for name in range(len(x)) if x[name] == 'M']\r\n",
    "len(ya)"
   ],
   "outputs": [
    {
     "output_type": "execute_result",
     "data": {
      "text/plain": [
       "38"
      ]
     },
     "metadata": {},
     "execution_count": 7
    }
   ],
   "metadata": {}
  },
  {
   "cell_type": "code",
   "execution_count": null,
   "source": [],
   "outputs": [],
   "metadata": {}
  }
 ],
 "metadata": {
  "orig_nbformat": 4,
  "language_info": {
   "name": "python",
   "version": "3.7.10",
   "mimetype": "text/x-python",
   "codemirror_mode": {
    "name": "ipython",
    "version": 3
   },
   "pygments_lexer": "ipython3",
   "nbconvert_exporter": "python",
   "file_extension": ".py"
  },
  "kernelspec": {
   "name": "python3",
   "display_name": "Python 3.7.10 64-bit ('tf2': conda)"
  },
  "interpreter": {
   "hash": "e527abc1402992eca053b9ffc0198f62c4f896d68ee6b8827c6f9e5b63adf377"
  }
 },
 "nbformat": 4,
 "nbformat_minor": 2
}