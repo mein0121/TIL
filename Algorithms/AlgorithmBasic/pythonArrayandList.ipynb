{
 "cells": [
  {
   "cell_type": "markdown",
   "source": [
    "## list\r\n",
    "* A list is a data structure that's built into Python and holds a collection of items. Lists have a number of important characteristics:\r\n",
    "\r\n",
    "    - List items are enclosed in square brackets, like this [item1, item2, item3].\r\n",
    "    - Lists are **ordered** – i.e. the items in the list appear in a specific order. This enables us to use an index to access to any item.\r\n",
    "    - Lists are **mutable**, which means you can add or remove items after a list's creation.\r\n",
    "    - List elements **do not need to be unique.** Item duplication is possible, as each element has its own distinct place and can be accessed separately through the index.\r\n",
    "    - Elements can be of **different data types**: you can combine strings, integers, and objects in the same list."
   ],
   "metadata": {}
  },
  {
   "cell_type": "code",
   "execution_count": 1,
   "source": [
    "li = [1,2,3,4,5]\r\n",
    "for i in range(len(li)):\r\n",
    "    li[i] += 20\r\n",
    "print(li)"
   ],
   "outputs": [
    {
     "output_type": "stream",
     "name": "stdout",
     "text": [
      "[21, 22, 23, 24, 25]\n"
     ]
    }
   ],
   "metadata": {}
  },
  {
   "cell_type": "code",
   "execution_count": 2,
   "source": [
    "import numpy as np\r\n",
    "arr = np.array([1,2,3,4,5])\r\n",
    "add = arr+20\r\n",
    "print(add) \r\n",
    "print(add[0])"
   ],
   "outputs": [
    {
     "output_type": "stream",
     "name": "stdout",
     "text": [
      "[21 22 23 24 25]\n",
      "21\n"
     ]
    }
   ],
   "metadata": {}
  },
  {
   "cell_type": "code",
   "execution_count": null,
   "source": [],
   "outputs": [],
   "metadata": {}
  }
 ],
 "metadata": {
  "orig_nbformat": 4,
  "language_info": {
   "name": "python",
   "version": "3.7.10",
   "mimetype": "text/x-python",
   "codemirror_mode": {
    "name": "ipython",
    "version": 3
   },
   "pygments_lexer": "ipython3",
   "nbconvert_exporter": "python",
   "file_extension": ".py"
  },
  "kernelspec": {
   "name": "python3",
   "display_name": "Python 3.7.10 64-bit ('tf2': conda)"
  },
  "interpreter": {
   "hash": "e527abc1402992eca053b9ffc0198f62c4f896d68ee6b8827c6f9e5b63adf377"
  }
 },
 "nbformat": 4,
 "nbformat_minor": 2
}